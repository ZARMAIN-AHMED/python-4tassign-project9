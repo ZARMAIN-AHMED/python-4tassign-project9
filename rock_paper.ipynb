{
  "nbformat": 4,
  "nbformat_minor": 0,
  "metadata": {
    "colab": {
      "provenance": [],
      "authorship_tag": "ABX9TyP5J8kZnFxqBXrkmqTPmAyH",
      "include_colab_link": true
    },
    "kernelspec": {
      "name": "python3",
      "display_name": "Python 3"
    },
    "language_info": {
      "name": "python"
    }
  },
  "cells": [
    {
      "cell_type": "markdown",
      "metadata": {
        "id": "view-in-github",
        "colab_type": "text"
      },
      "source": [
        "<a href=\"https://colab.research.google.com/github/ZARMAIN-AHMED/python-4tassign-project9/blob/main/rock_paper.ipynb\" target=\"_parent\"><img src=\"https://colab.research.google.com/assets/colab-badge.svg\" alt=\"Open In Colab\"/></a>"
      ]
    },
    {
      "cell_type": "code",
      "execution_count": null,
      "metadata": {
        "colab": {
          "base_uri": "https://localhost:8080/"
        },
        "id": "-Fo87BtmbVJB",
        "outputId": "f7408914-88a3-4839-afee-0d38fd244c0a"
      },
      "outputs": [
        {
          "output_type": "stream",
          "name": "stdout",
          "text": [
            "What's your choice? 'r' for rock, 'p' for paper, 's' for scissors\n",
            "p\n",
            "you lost!\n"
          ]
        }
      ],
      "source": [
        "import random\n",
        "\n",
        "def play():\n",
        "    user = input(\"What's your choice? 'r' for rock, 'p' for paper, 's' for scissors\\n\")\n",
        "    computer = random.choice(['r', 'p' , 's'])\n",
        "\n",
        "    if user == computer:\n",
        "       return 'It\\'s a tie'\n",
        "\n",
        "    # r > s, s > p, p > r\n",
        "    if is_win(user,computer):\n",
        "      return \"you won!\"\n",
        "\n",
        "    return 'you lost!'\n",
        "\n",
        "\n",
        "def is_win(player,opponent):\n",
        "    # return true if player wins\n",
        "    # r > s, s > p, p > r\n",
        "    if (player == \"r\" and opponent == \"s\") or (player == \"s\" and opponent == \"p\")\\\n",
        "        or (player =='p' and opponent == \"r\"):\n",
        "        return True\n",
        "\n",
        "print(play())\n",
        "\n"
      ]
    }
  ]
}