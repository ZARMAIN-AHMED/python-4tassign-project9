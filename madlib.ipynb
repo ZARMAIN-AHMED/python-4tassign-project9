{
  "nbformat": 4,
  "nbformat_minor": 0,
  "metadata": {
    "colab": {
      "provenance": [],
      "authorship_tag": "ABX9TyNuMFFUBH6tpSiDKf6B2r5N",
      "include_colab_link": true
    },
    "kernelspec": {
      "name": "python3",
      "display_name": "Python 3"
    },
    "language_info": {
      "name": "python"
    }
  },
  "cells": [
    {
      "cell_type": "markdown",
      "metadata": {
        "id": "view-in-github",
        "colab_type": "text"
      },
      "source": [
        "<a href=\"https://colab.research.google.com/github/ZARMAIN-AHMED/python-4tassign-project9/blob/main/madlib.ipynb\" target=\"_parent\"><img src=\"https://colab.research.google.com/assets/colab-badge.svg\" alt=\"Open In Colab\"/></a>"
      ]
    },
    {
      "cell_type": "code",
      "execution_count": null,
      "metadata": {
        "colab": {
          "base_uri": "https://localhost:8080/"
        },
        "id": "anwugSJrZNAw",
        "outputId": "ce306c13-7457-449c-adbc-23525f50bddf"
      },
      "outputs": [
        {
          "output_type": "stream",
          "name": "stdout",
          "text": [
            "Hello! \n",
            "Enter your name\n",
            "Full Name :zarmain ahmed\n",
            "Welcome to madlib game: zarmain ahmed\n",
            "Lets start the game!\n",
            "Adjective:good\n",
            "verb: work hard\n",
            "verb:stay\n",
            "Famous person:elon musk\n",
            " Computer programing is so good! It makes me so excited all the time because I love to  work hard. stay Hydrated and stay like you are elon musk!\n"
          ]
        }
      ],
      "source": [
        "\n",
        "import random\n",
        "\n",
        "print(\"Hello! \")\n",
        "print(\"Enter your name\")\n",
        "\n",
        "name = input(\"Full Name :\")\n",
        "\n",
        "print (\"Welcome to madlib game: \" + name)\n",
        "print(\"Lets start the game!\")\n",
        "\n",
        "\n",
        "adj = input(\"Adjective:\")\n",
        "verb1 = input(\"verb:\")\n",
        "verb2 = input(\"verb:\")\n",
        "famous_person = input(\"Famous person:\")\n",
        "\n",
        "madlib = f\" Computer programing is so {adj}! It makes me so excited all the time because \\\n",
        "I love to {verb1}. stay Hydrated and {verb2} like you are {famous_person}!\"\n",
        "\n",
        "print(madlib)\n",
        "\n",
        "\n"
      ]
    }
  ]
}