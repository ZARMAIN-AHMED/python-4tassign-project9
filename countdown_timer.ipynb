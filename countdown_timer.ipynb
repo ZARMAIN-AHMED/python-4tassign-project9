{
  "nbformat": 4,
  "nbformat_minor": 0,
  "metadata": {
    "colab": {
      "provenance": [],
      "authorship_tag": "ABX9TyOw2vEJKyaeLftQzqw19T5F",
      "include_colab_link": true
    },
    "kernelspec": {
      "name": "python3",
      "display_name": "Python 3"
    },
    "language_info": {
      "name": "python"
    }
  },
  "cells": [
    {
      "cell_type": "markdown",
      "metadata": {
        "id": "view-in-github",
        "colab_type": "text"
      },
      "source": [
        "<a href=\"https://colab.research.google.com/github/ZARMAIN-AHMED/python-4tassign-project9/blob/main/countdown_timer.ipynb\" target=\"_parent\"><img src=\"https://colab.research.google.com/assets/colab-badge.svg\" alt=\"Open In Colab\"/></a>"
      ]
    },
    {
      "cell_type": "code",
      "source": [
        "import time\n",
        "\n",
        "\n",
        "def countdown(t):\n",
        "      while t:\n",
        "          mins, secs = divmod(t, 60)\n",
        "          timer = '{:02d}:{:02d}'.format(mins, secs)\n",
        "          print(timer, end=\"\\r\")\n",
        "          time.sleep(1)\n",
        "          t -= 1\n",
        "\n",
        "      print('Timer completed!')\n",
        "t = input('Enter the time in seconds: ')\n",
        "\n",
        "countdown(int(t))"
      ],
      "metadata": {
        "colab": {
          "base_uri": "https://localhost:8080/"
        },
        "id": "s1BjKCuWovL7",
        "outputId": "474a2a2e-0439-4c16-a377-194d1d09daf8"
      },
      "execution_count": null,
      "outputs": [
        {
          "output_type": "stream",
          "name": "stdout",
          "text": [
            "Enter the time in seconds: 10\n",
            "Timer completed!\n"
          ]
        }
      ]
    }
  ]
}