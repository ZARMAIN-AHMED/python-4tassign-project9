{
  "nbformat": 4,
  "nbformat_minor": 0,
  "metadata": {
    "colab": {
      "provenance": [],
      "authorship_tag": "ABX9TyOMqKRyAsivATZHiyHpx4vM",
      "include_colab_link": true
    },
    "kernelspec": {
      "name": "python3",
      "display_name": "Python 3"
    },
    "language_info": {
      "name": "python"
    }
  },
  "cells": [
    {
      "cell_type": "markdown",
      "metadata": {
        "id": "view-in-github",
        "colab_type": "text"
      },
      "source": [
        "<a href=\"https://colab.research.google.com/github/ZARMAIN-AHMED/python-4tassign-project9/blob/main/guessinggame_computer.ipynb\" target=\"_parent\"><img src=\"https://colab.research.google.com/assets/colab-badge.svg\" alt=\"Open In Colab\"/></a>"
      ]
    },
    {
      "cell_type": "code",
      "execution_count": null,
      "metadata": {
        "colab": {
          "base_uri": "https://localhost:8080/"
        },
        "id": "LglsxhNmp_Mb",
        "outputId": "7fe43698-888f-4f00-fdc5-a7d4e0fec86d"
      },
      "outputs": [
        {
          "output_type": "stream",
          "name": "stdout",
          "text": [
            "Welcome to the Number Guessing Game!\n",
            "Guess a number between 50 and 100.\n",
            "You have 5 attempts.\n",
            "Let's start!\n",
            "Please enter your guess: 90\n",
            "your guess is very high, try again!\n",
            "Please enter your guess: 99\n",
            "your guess is very high, try again!\n",
            "Please enter your guess: 60\n",
            "your guess is very low, try again!\n",
            "Please enter your guess: 40\n",
            "your guess is very low, try again!\n",
            "Please enter your guess: 20\n",
            "Oops sorry, the number is 85 better luck next time!\n"
          ]
        }
      ],
      "source": [
        "import random\n",
        "print(\"Welcome to the Number Guessing Game!\")\n",
        "print(\"Guess a number between 50 and 100.\")\n",
        "print(\"You have 5 attempts.\")\n",
        "print(\"Let's start!\")\n",
        "\n",
        "\n",
        "number_to_guess = random.randrange(50, 101)\n",
        "\n",
        "max_attempts = 5\n",
        "\n",
        "attempts_taken = 0\n",
        "\n",
        "\n",
        "while attempts_taken < max_attempts:\n",
        "\n",
        "    attempts_taken += 1\n",
        "    user_guess = int(input(\"Please enter your guess: \"))\n",
        "\n",
        "    if user_guess == number_to_guess:\n",
        "        print(\n",
        "            f\"The number is {number_to_guess} and you found it right!! in the {attempts_taken} attempt\"\n",
        "        )\n",
        "        break\n",
        "\n",
        "\n",
        "    elif attempts_taken >= max_attempts and user_guess != number_to_guess:\n",
        "        print(f\"Oops sorry, the number is {number_to_guess} better luck next time!\")\n",
        "\n",
        "\n",
        "    elif user_guess > number_to_guess:\n",
        "        print(\"your guess is very high, try again!\")\n",
        "\n",
        "    elif user_guess < number_to_guess:\n",
        "        print(\"your guess is very low, try again!\")"
      ]
    }
  ]
}